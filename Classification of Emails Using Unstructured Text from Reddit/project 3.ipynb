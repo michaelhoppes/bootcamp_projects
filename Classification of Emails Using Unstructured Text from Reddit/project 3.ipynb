{
 "cells": [
  {
   "cell_type": "markdown",
   "metadata": {},
   "source": [
    "## Comparison of r/Christianity vs r/Buddhism"
   ]
  },
  {
   "cell_type": "markdown",
   "metadata": {},
   "source": [
    "### Let's import the packages we will need to grab historical data from reddit and store it into a dataframe"
   ]
  },
  {
   "cell_type": "code",
   "execution_count": 1,
   "metadata": {},
   "outputs": [],
   "source": [
    "import requests\n",
    "import pandas as pd\n",
    "import time\n",
    "import datetime as dt\n",
    "import numpy as np"
   ]
  },
  {
   "cell_type": "markdown",
   "metadata": {},
   "source": [
    "### The first step is to grab data. In order to do that we want to use the push shift api. The slug of the pushshift api uses a number of tags. We are interested in capturing 3 pieces of information that we will put into our api ... namely the subreddit of interest, the day increments we will query, and how many times we will take querys in those increments. "
   ]
  },
  {
   "cell_type": "markdown",
   "metadata": {},
   "source": [
    "##### s/o Brian Collins"
   ]
  },
  {
   "cell_type": "code",
   "execution_count": 2,
   "metadata": {},
   "outputs": [],
   "source": [
    "def query_pushshift(subreddit, kind='submission', skip=15, times=12, \n",
    "                    subfield = ['title', 'selftext', 'subreddit', 'created_utc', 'author', 'num_comments', 'score', 'is_self'],\n",
    "                    comfields = ['body', 'score', 'created_utc']):\n",
    "\n",
    "    stem = \"https://api.pushshift.io/reddit/search/{}/?subreddit={}&size=1000\".format(kind, subreddit) ## making a url which can take the kind of api pull we want and the subreddit slug\n",
    "    mylist = []                                       # instantiating an empty list\n",
    "    \n",
    "    for x in range(1, times):                         # looping as many times as the functions user states over a certain day period\n",
    "        \n",
    "        URL = \"{}&after={}d\".format(stem, skip * x)   # concatenating the number of days we skip to our stem url we created earlier\n",
    "        print(URL)                                    # print it each time so we can see as the url requests from the website each time interval\n",
    "        response = requests.get(URL)                  # set the response request\n",
    "        assert response.status_code == 200            # We need out status code to equal 200 which is a code that lets us know the website is clear to scrape\n",
    "        mine = response.json()['data']                # grab the json data block and put into a dictionary\n",
    "        df = pd.DataFrame.from_dict(mine)             # convert that dictionary into a dataframe\n",
    "        mylist.append(df)                             # append that data to our instantiated list\n",
    "        time.sleep(2)                                 # pause 2 seconds so we don't overload the web server\n",
    "        \n",
    "    full = pd.concat(mylist, sort=False)              # after we're done putting our dataframes into a list, we concatenate all of them into a full dataframe\n",
    "    \n",
    "    if kind == \"submission\":                          # By default the kind of object we grab is the submission object. \n",
    "        \n",
    "        full = full[subfield]                         # We take our default subfields as the only columns we want to keep\n",
    "        \n",
    "        full = full.drop_duplicates()                 # drop our duplicate rows\n",
    "        \n",
    "        full = full.loc[full['is_self'] == True]      # drop any column where is_self is equal to \n",
    "        \n",
    "    def get_date(created):\n",
    "        return dt.date.fromtimestamp(created)         # Create a function that uses the datetime library to grab the from time stamp\n",
    "    \n",
    "    _timestamp = full[\"created_utc\"].apply(get_date)  # Apply that function to the created utc column and put into the timestamp variable\n",
    "    \n",
    "    full['timestamp'] = _timestamp                    # Add a pandas column timestamp\n",
    "\n",
    "    print(full.shape)                                 # print the shape\n",
    "    \n",
    "    return full                                       # Return the full dataframe for us to store in a df."
   ]
  },
  {
   "cell_type": "code",
   "execution_count": 3,
   "metadata": {},
   "outputs": [
    {
     "name": "stdout",
     "output_type": "stream",
     "text": [
      "https://api.pushshift.io/reddit/search/submission/?subreddit=Christianity&size=1000&after=15d\n",
      "https://api.pushshift.io/reddit/search/submission/?subreddit=Christianity&size=1000&after=30d\n",
      "https://api.pushshift.io/reddit/search/submission/?subreddit=Christianity&size=1000&after=45d\n",
      "https://api.pushshift.io/reddit/search/submission/?subreddit=Christianity&size=1000&after=60d\n",
      "https://api.pushshift.io/reddit/search/submission/?subreddit=Christianity&size=1000&after=75d\n",
      "https://api.pushshift.io/reddit/search/submission/?subreddit=Christianity&size=1000&after=90d\n",
      "https://api.pushshift.io/reddit/search/submission/?subreddit=Christianity&size=1000&after=105d\n",
      "https://api.pushshift.io/reddit/search/submission/?subreddit=Christianity&size=1000&after=120d\n",
      "https://api.pushshift.io/reddit/search/submission/?subreddit=Christianity&size=1000&after=135d\n",
      "https://api.pushshift.io/reddit/search/submission/?subreddit=Christianity&size=1000&after=150d\n",
      "https://api.pushshift.io/reddit/search/submission/?subreddit=Christianity&size=1000&after=165d\n",
      "(7934, 9)\n"
     ]
    }
   ],
   "source": [
    "Christian = query_pushshift('Christianity')"
   ]
  },
  {
   "cell_type": "code",
   "execution_count": 4,
   "metadata": {},
   "outputs": [
    {
     "name": "stdout",
     "output_type": "stream",
     "text": [
      "https://api.pushshift.io/reddit/search/submission/?subreddit=Buddhism&size=1000&after=15d\n",
      "https://api.pushshift.io/reddit/search/submission/?subreddit=Buddhism&size=1000&after=30d\n",
      "https://api.pushshift.io/reddit/search/submission/?subreddit=Buddhism&size=1000&after=45d\n",
      "https://api.pushshift.io/reddit/search/submission/?subreddit=Buddhism&size=1000&after=60d\n",
      "https://api.pushshift.io/reddit/search/submission/?subreddit=Buddhism&size=1000&after=75d\n",
      "https://api.pushshift.io/reddit/search/submission/?subreddit=Buddhism&size=1000&after=90d\n",
      "https://api.pushshift.io/reddit/search/submission/?subreddit=Buddhism&size=1000&after=105d\n",
      "https://api.pushshift.io/reddit/search/submission/?subreddit=Buddhism&size=1000&after=120d\n",
      "https://api.pushshift.io/reddit/search/submission/?subreddit=Buddhism&size=1000&after=135d\n",
      "https://api.pushshift.io/reddit/search/submission/?subreddit=Buddhism&size=1000&after=150d\n",
      "https://api.pushshift.io/reddit/search/submission/?subreddit=Buddhism&size=1000&after=165d\n",
      "https://api.pushshift.io/reddit/search/submission/?subreddit=Buddhism&size=1000&after=180d\n",
      "https://api.pushshift.io/reddit/search/submission/?subreddit=Buddhism&size=1000&after=195d\n",
      "https://api.pushshift.io/reddit/search/submission/?subreddit=Buddhism&size=1000&after=210d\n",
      "https://api.pushshift.io/reddit/search/submission/?subreddit=Buddhism&size=1000&after=225d\n",
      "https://api.pushshift.io/reddit/search/submission/?subreddit=Buddhism&size=1000&after=240d\n",
      "https://api.pushshift.io/reddit/search/submission/?subreddit=Buddhism&size=1000&after=255d\n",
      "https://api.pushshift.io/reddit/search/submission/?subreddit=Buddhism&size=1000&after=270d\n",
      "https://api.pushshift.io/reddit/search/submission/?subreddit=Buddhism&size=1000&after=285d\n",
      "(6552, 9)\n"
     ]
    }
   ],
   "source": [
    "Buddhism = query_pushshift('Buddhism', times = 20)"
   ]
  },
  {
   "cell_type": "markdown",
   "metadata": {},
   "source": [
    "# Let's make a copy of our data so we don't have to hit the server each time"
   ]
  },
  {
   "cell_type": "code",
   "execution_count": 5,
   "metadata": {},
   "outputs": [],
   "source": [
    "Buddhism.to_csv('Buddhism.csv', index = False)"
   ]
  },
  {
   "cell_type": "code",
   "execution_count": 6,
   "metadata": {},
   "outputs": [],
   "source": [
    "Christian.to_csv('Christian.csv', index = False)"
   ]
  },
  {
   "cell_type": "code",
   "execution_count": 7,
   "metadata": {},
   "outputs": [],
   "source": [
    "Buddhism = pd.read_csv('Buddhism.csv')"
   ]
  },
  {
   "cell_type": "code",
   "execution_count": 8,
   "metadata": {},
   "outputs": [],
   "source": [
    "Christian = pd.read_csv('Christian.csv')"
   ]
  },
  {
   "cell_type": "markdown",
   "metadata": {},
   "source": [
    "### Let's examine our data"
   ]
  },
  {
   "cell_type": "code",
   "execution_count": 9,
   "metadata": {},
   "outputs": [
    {
     "data": {
      "text/plain": [
       "(7934, 9)"
      ]
     },
     "execution_count": 9,
     "metadata": {},
     "output_type": "execute_result"
    }
   ],
   "source": [
    "Christian.shape"
   ]
  },
  {
   "cell_type": "code",
   "execution_count": 10,
   "metadata": {},
   "outputs": [
    {
     "data": {
      "text/plain": [
       "(6552, 9)"
      ]
     },
     "execution_count": 10,
     "metadata": {},
     "output_type": "execute_result"
    }
   ],
   "source": [
    "Buddhism.shape"
   ]
  },
  {
   "cell_type": "code",
   "execution_count": 11,
   "metadata": {},
   "outputs": [
    {
     "name": "stdout",
     "output_type": "stream",
     "text": [
      "<class 'pandas.core.frame.DataFrame'>\n",
      "RangeIndex: 7934 entries, 0 to 7933\n",
      "Data columns (total 9 columns):\n",
      "title           7934 non-null object\n",
      "selftext        7084 non-null object\n",
      "subreddit       7934 non-null object\n",
      "created_utc     7934 non-null int64\n",
      "author          7934 non-null object\n",
      "num_comments    7934 non-null int64\n",
      "score           7934 non-null int64\n",
      "is_self         7934 non-null bool\n",
      "timestamp       7934 non-null object\n",
      "dtypes: bool(1), int64(3), object(5)\n",
      "memory usage: 503.7+ KB\n"
     ]
    }
   ],
   "source": [
    "Christian.info() ## Types look good "
   ]
  },
  {
   "cell_type": "markdown",
   "metadata": {},
   "source": [
    "## Data Cleaning"
   ]
  },
  {
   "cell_type": "markdown",
   "metadata": {},
   "source": [
    "To do list:\n",
    "\n",
    "1) Add a target feature into my dataframes\n",
    "\n",
    "2) Merge those data frames together into one dataframe\n",
    "\n",
    "3) Create a function that gets applied to the text in a column of a data frame to loop through and apply operations to each string of text. \n",
    "\n",
    "    What do I want that function to do?\n",
    "    \n",
    "    First, I want it to split all of the words into a list. Then I want it to loop through and \n",
    "        \n",
    "        Aa) Instantiate a list that we will append works back to.\n",
    "        \n",
    "        A) Split into a list \n",
    "        \n",
    "        B) Remove all numbers (find Regex for digit)\n",
    "        \n",
    "        C) Remove all punctuation (find Regex for symbol)\n",
    "        \n",
    "            i) Replace with a space\n",
    "        \n",
    "        D) Remove all stop words (you can either do this in the count vectorizor, or another time)\n",
    "        \n",
    "        E) Make sure they are all lower case (do this in the function)\n",
    "        \n",
    "        F) Lemmetize the words (do this in the function)\n",
    "        \n",
    "        G) Strip any empty space\n",
    "        \n",
    "        H) What are some problem's that could come up when doing this?\n",
    "        \n",
    "            i) If you remove all quotation marks you could loose plural words? We don't really care\n",
    "            \n",
    "    How do I do bi-grams? Probably on the transformation with the vectorizer that you can call an attribute. \n",
    "    \n",
    "    After this is done it should return the processed text back. \n",
    "    \n",
    "    \n",
    "    See the drill from the lab:\n",
    "    \n",
    "    1) convert all text to lowercase,\n",
    "    2) remove punctuation,\n",
    "    3) stem or lemmatize each word of the text,\n",
    "    4) remove stopwords."
   ]
  },
  {
   "cell_type": "markdown",
   "metadata": {},
   "source": [
    "### Let's import the packages we will need to clean all of our text data"
   ]
  },
  {
   "cell_type": "markdown",
   "metadata": {},
   "source": [
    "#### Add targets into Buddhism and Christianity"
   ]
  },
  {
   "cell_type": "code",
   "execution_count": 12,
   "metadata": {},
   "outputs": [],
   "source": [
    "Buddhism['target'] = 0"
   ]
  },
  {
   "cell_type": "code",
   "execution_count": 13,
   "metadata": {},
   "outputs": [],
   "source": [
    "Christian['target']= 1"
   ]
  },
  {
   "cell_type": "markdown",
   "metadata": {},
   "source": [
    "#### Turn our dataframe into one frame"
   ]
  },
  {
   "cell_type": "code",
   "execution_count": 14,
   "metadata": {},
   "outputs": [],
   "source": [
    "df = pd.concat([Buddhism,Christian])"
   ]
  },
  {
   "cell_type": "markdown",
   "metadata": {},
   "source": [
    "#### Now that we have our full dataframe, let's figure out what our baseline is."
   ]
  },
  {
   "cell_type": "code",
   "execution_count": 15,
   "metadata": {},
   "outputs": [
    {
     "data": {
      "text/plain": [
       "1    0.547701\n",
       "0    0.452299\n",
       "Name: target, dtype: float64"
      ]
     },
     "execution_count": 15,
     "metadata": {},
     "output_type": "execute_result"
    }
   ],
   "source": [
    "df.target.value_counts(normalize=True)"
   ]
  },
  {
   "cell_type": "markdown",
   "metadata": {},
   "source": [
    "### Our baseline is going to be 54.5% that a post is from the r/Christianity forum. This is a pretty even set, so there won't be a need to sample or weight observations."
   ]
  },
  {
   "cell_type": "markdown",
   "metadata": {},
   "source": [
    "#### Check for Nulls"
   ]
  },
  {
   "cell_type": "code",
   "execution_count": 16,
   "metadata": {},
   "outputs": [
    {
     "data": {
      "text/plain": [
       "title              0\n",
       "selftext        1309\n",
       "subreddit          0\n",
       "created_utc        0\n",
       "author             0\n",
       "num_comments       0\n",
       "score              0\n",
       "is_self            0\n",
       "timestamp          0\n",
       "target             0\n",
       "dtype: int64"
      ]
     },
     "execution_count": 16,
     "metadata": {},
     "output_type": "execute_result"
    }
   ],
   "source": [
    "df.isnull().sum()"
   ]
  },
  {
   "cell_type": "markdown",
   "metadata": {},
   "source": [
    "#### self text has 1294 nulls. Let's replace with a space so it turns into a string value with one character"
   ]
  },
  {
   "cell_type": "code",
   "execution_count": 17,
   "metadata": {},
   "outputs": [],
   "source": [
    "df.selftext = df.selftext.fillna(' ')"
   ]
  },
  {
   "cell_type": "markdown",
   "metadata": {},
   "source": [
    "#### Make a column that combines all text"
   ]
  },
  {
   "cell_type": "code",
   "execution_count": 18,
   "metadata": {},
   "outputs": [],
   "source": [
    "df['all_txt'] = df['title'] + ' ' + df['selftext']"
   ]
  },
  {
   "cell_type": "code",
   "execution_count": 19,
   "metadata": {},
   "outputs": [
    {
     "data": {
      "text/plain": [
       "0    Question for you Buddhists. Have you guys read...\n",
       "1    Thought about nirvana/enlightenment I noticed ...\n",
       "2    Lotus of Tibet... a Mandala of Ink dedicated t...\n",
       "3    Books about Buddhism? I am interested in learn...\n",
       "4    When you attain nirvana, do you experience ces...\n",
       "Name: all_txt, dtype: object"
      ]
     },
     "execution_count": 19,
     "metadata": {},
     "output_type": "execute_result"
    }
   ],
   "source": [
    "df['all_txt'].head()"
   ]
  },
  {
   "cell_type": "markdown",
   "metadata": {},
   "source": [
    "#### Define a function to clean all of our text s/o Matt Brems"
   ]
  },
  {
   "cell_type": "code",
   "execution_count": 20,
   "metadata": {},
   "outputs": [],
   "source": [
    "import nltk\n",
    "from bs4 import BeautifulSoup\n",
    "import re\n",
    "from nltk.corpus import stopwords\n",
    "from sklearn.feature_extraction import text\n",
    "from nltk.stem import WordNetLemmatizer\n",
    "lemmatizer = WordNetLemmatizer()"
   ]
  },
  {
   "cell_type": "code",
   "execution_count": 21,
   "metadata": {},
   "outputs": [],
   "source": [
    "## Later on in my notebook I found that there were a bunch of stopwords that I want to include into my set of stopwords"
   ]
  },
  {
   "cell_type": "code",
   "execution_count": 22,
   "metadata": {},
   "outputs": [],
   "source": [
    "stopwords = stopwords.words('english')\n",
    "new_stopwords = ['wa', 'like', 'would', 'ha', 'really', 'also', 'away','gt','got','since','www','http','christianity','buddhism']\n"
   ]
  },
  {
   "cell_type": "code",
   "execution_count": 23,
   "metadata": {},
   "outputs": [],
   "source": [
    "stopwords.extend(new_stopwords)"
   ]
  },
  {
   "cell_type": "code",
   "execution_count": 24,
   "metadata": {},
   "outputs": [
    {
     "data": {
      "text/plain": [
       "list"
      ]
     },
     "execution_count": 24,
     "metadata": {},
     "output_type": "execute_result"
    }
   ],
   "source": [
    "type(stopwords)"
   ]
  },
  {
   "cell_type": "code",
   "execution_count": 25,
   "metadata": {},
   "outputs": [],
   "source": [
    "def review_to_words(raw_title):\n",
    "    # Function to convert a raw reddit title to a string of words\n",
    "    # The input is a single string (a raw reddit title), and \n",
    "    # the output is a single string (a preprocessed reddit title)\n",
    "    #\n",
    "    # 1. Remove HTML\n",
    "#     title_text = BeautifulSoup(raw_title).get_text()\n",
    "    #\n",
    "    # 2. Remove non-letters        \n",
    "    letters_only = re.sub(\"[^a-zA-Z]\", \" \", raw_title)\n",
    "    #\n",
    "    # 3. Convert to lower case, split into individual words\n",
    "    words = letters_only.lower().split()\n",
    "    \n",
    "    # 4. Write a list comprehension to lemmatize my words in words and relist back into words\n",
    "    words = [lemmatizer.lemmatize(i) for i in words]\n",
    "    #\n",
    "    # 5. In Python, searching a set is much faster than searching\n",
    "    #   a list, so convert the stop words to a set\n",
    "    stops = set(stopwords)\n",
    "    # \n",
    "    # 6. Remove stop words\n",
    "    meaningful_words = [w for w in words if not w in stops]\n",
    "    #\n",
    "    # 7. Join the words back into one string separated by space, \n",
    "    # and return the result.\n",
    "    return(\" \".join(meaningful_words))"
   ]
  },
  {
   "cell_type": "code",
   "execution_count": 26,
   "metadata": {},
   "outputs": [],
   "source": [
    "df['all_txt'] = df['all_txt'].apply(lambda x: review_to_words(x))"
   ]
  },
  {
   "cell_type": "code",
   "execution_count": 27,
   "metadata": {},
   "outputs": [
    {
     "data": {
      "text/plain": [
       "'thought nirvana enlightenment noticed feeling needed something buddha buddhist enlightened feel living expectation something need achieve become buddha counter productive feel attaching concept buddha instead buddha sure anyone else feeling think worth exploring bit cause lot religion different rule philosophy feel nothing wrong trying rule seeing work sometimes seems people accept rule actually see work understand'"
      ]
     },
     "execution_count": 27,
     "metadata": {},
     "output_type": "execute_result"
    }
   ],
   "source": [
    "df['all_txt'].iloc[1]"
   ]
  },
  {
   "cell_type": "markdown",
   "metadata": {},
   "source": [
    "## Let's bring in our vectorizers, train_test_split and fit/transform. Before we get into modeling, we are going to do some basic eda to find out some information about the words we are collecting."
   ]
  },
  {
   "cell_type": "markdown",
   "metadata": {},
   "source": [
    "### Vectorize"
   ]
  },
  {
   "cell_type": "code",
   "execution_count": 28,
   "metadata": {},
   "outputs": [],
   "source": [
    "# sklearn.feature_extraction.text.TfidfVectorizer\n",
    "\n",
    "from sklearn.feature_extraction.text import TfidfVectorizer, CountVectorizer"
   ]
  },
  {
   "cell_type": "code",
   "execution_count": 29,
   "metadata": {},
   "outputs": [],
   "source": [
    "cv = CountVectorizer()\n",
    "\n",
    "budclean = df[df['target']==0]\n",
    "\n",
    "budft = cv.fit_transform(budclean['all_txt'])\n",
    "\n",
    "budtext = pd.DataFrame(budft.toarray(), columns= cv.get_feature_names())"
   ]
  },
  {
   "cell_type": "code",
   "execution_count": 30,
   "metadata": {},
   "outputs": [],
   "source": [
    "buddhacounts = budtext.sum()"
   ]
  },
  {
   "cell_type": "code",
   "execution_count": 31,
   "metadata": {},
   "outputs": [],
   "source": [
    "## Some potential stopwords to add: ['wa', 'like', 'would', 'ha', 'really', 'also', 'away','gt','got','since','www','http']"
   ]
  },
  {
   "cell_type": "code",
   "execution_count": 32,
   "metadata": {},
   "outputs": [
    {
     "data": {
      "text/plain": [
       "count    23432.000000\n",
       "mean        19.104771\n",
       "std         97.693802\n",
       "min          1.000000\n",
       "25%          1.000000\n",
       "50%          2.000000\n",
       "75%          7.000000\n",
       "max       3491.000000\n",
       "dtype: float64"
      ]
     },
     "execution_count": 32,
     "metadata": {},
     "output_type": "execute_result"
    }
   ],
   "source": [
    "# Extremely skewed in the words that are used. The 75th percentile of words used was only 7 times. Mean is around 20. \n",
    "# Max is 4438.\n",
    "buddhacounts.describe()"
   ]
  },
  {
   "cell_type": "code",
   "execution_count": 33,
   "metadata": {},
   "outputs": [
    {
     "data": {
      "text/plain": [
       "one           3491\n",
       "buddhist      2866\n",
       "feel          2828\n",
       "life          2767\n",
       "thing         2651\n",
       "know          2634\n",
       "time          2524\n",
       "people        2386\n",
       "buddha        2356\n",
       "mind          2240\n",
       "meditation    2101\n",
       "thought       2023\n",
       "way           1993\n",
       "practice      1945\n",
       "want          1806\n",
       "get           1764\n",
       "think         1730\n",
       "even          1708\n",
       "go            1621\n",
       "doe           1604\n",
       "good          1473\n",
       "help          1409\n",
       "make          1375\n",
       "see           1358\n",
       "something     1354\n",
       "say           1344\n",
       "could         1329\n",
       "suffering     1320\n",
       "self          1305\n",
       "amp           1289\n",
       "              ... \n",
       "going          751\n",
       "seems          750\n",
       "state          746\n",
       "different      741\n",
       "friend         741\n",
       "new            739\n",
       "idea           734\n",
       "place          728\n",
       "point          728\n",
       "trying         715\n",
       "said           713\n",
       "everything     698\n",
       "try            698\n",
       "view           697\n",
       "though         668\n",
       "reading        666\n",
       "become         666\n",
       "great          665\n",
       "sense          662\n",
       "desire         662\n",
       "around         661\n",
       "long           658\n",
       "part           654\n",
       "give           644\n",
       "karma          642\n",
       "kind           637\n",
       "two            627\n",
       "nature         625\n",
       "bad            624\n",
       "advice         623\n",
       "Length: 100, dtype: int64"
      ]
     },
     "execution_count": 33,
     "metadata": {},
     "output_type": "execute_result"
    }
   ],
   "source": [
    "buddhacounts.sort_values(ascending=False).head(100)#sort_values(ascending=False)"
   ]
  },
  {
   "cell_type": "code",
   "execution_count": 34,
   "metadata": {},
   "outputs": [],
   "source": [
    "cv = CountVectorizer()\n",
    "christclean = df[df['target']==1]\n",
    "christft = cv.fit_transform(christclean['all_txt'])\n",
    "christfit = pd.DataFrame(christft.toarray(), columns= cv.get_feature_names())"
   ]
  },
  {
   "cell_type": "code",
   "execution_count": 35,
   "metadata": {},
   "outputs": [
    {
     "data": {
      "text/plain": [
       "god           11546\n",
       "christian      4456\n",
       "know           3994\n",
       "people         3914\n",
       "jesus          3806\n",
       "one            3605\n",
       "life           3584\n",
       "church         3373\n",
       "time           3254\n",
       "want           2979\n",
       "thing          2855\n",
       "feel           2763\n",
       "get            2549\n",
       "bible          2500\n",
       "love           2499\n",
       "think          2398\n",
       "say            2265\n",
       "even           2220\n",
       "go             2179\n",
       "believe        2155\n",
       "year           2107\n",
       "good           2106\n",
       "amp            2095\n",
       "way            2076\n",
       "make           2056\n",
       "christ         1966\n",
       "day            1935\n",
       "faith          1873\n",
       "help           1841\n",
       "sin            1719\n",
       "              ...  \n",
       "spirit          971\n",
       "let             963\n",
       "new             963\n",
       "well            958\n",
       "anything        931\n",
       "person          893\n",
       "live            889\n",
       "book            884\n",
       "heart           877\n",
       "guy             870\n",
       "bad             866\n",
       "ever            860\n",
       "woman           859\n",
       "everyone        851\n",
       "hell            846\n",
       "father          841\n",
       "religion        840\n",
       "tell            836\n",
       "may             834\n",
       "child           832\n",
       "part            830\n",
       "son             805\n",
       "everything      805\n",
       "mind            794\n",
       "understand      787\n",
       "old             775\n",
       "evil            762\n",
       "told            761\n",
       "trying          749\n",
       "holy            748\n",
       "Length: 100, dtype: int64"
      ]
     },
     "execution_count": 35,
     "metadata": {},
     "output_type": "execute_result"
    }
   ],
   "source": [
    "christcounts = christfit.sum()\n",
    "christcounts.describe()\n",
    "christcounts.sort_values(ascending=False).head(100)#sort_values(ascending=False)"
   ]
  },
  {
   "cell_type": "code",
   "execution_count": 36,
   "metadata": {},
   "outputs": [],
   "source": [
    "christcounts.to_csv('christcounts.csv',index=True)"
   ]
  },
  {
   "cell_type": "code",
   "execution_count": 37,
   "metadata": {},
   "outputs": [],
   "source": [
    "buddhacounts.to_csv('buddhacounts.csv',index=True)"
   ]
  },
  {
   "cell_type": "code",
   "execution_count": 38,
   "metadata": {},
   "outputs": [],
   "source": [
    "## Need to grab some stop words: 'away','gt','got','since','www','http'"
   ]
  },
  {
   "cell_type": "markdown",
   "metadata": {},
   "source": [
    "### OK, now it's time to use Tfidf for prepare for some modeling"
   ]
  },
  {
   "cell_type": "markdown",
   "metadata": {},
   "source": [
    "### In order to see what type of transformation produces the best classification I'm going to instantiate and test two different types of vectorizers to see if either produce a better score"
   ]
  },
  {
   "cell_type": "code",
   "execution_count": 39,
   "metadata": {},
   "outputs": [],
   "source": [
    "from sklearn.model_selection import train_test_split"
   ]
  },
  {
   "cell_type": "code",
   "execution_count": 40,
   "metadata": {},
   "outputs": [],
   "source": [
    "X = df['all_txt']\n",
    "y = df['target']\n",
    "X_train, X_test, y_train, y_test = train_test_split(X, y, test_size=0.2, random_state=42)"
   ]
  },
  {
   "cell_type": "code",
   "execution_count": 41,
   "metadata": {},
   "outputs": [],
   "source": [
    "# Instantiating my Vectorizers\n",
    "\n",
    "tifdif = TfidfVectorizer(ngram_range=(1,2),max_features=5000, max_df=.9, min_df=.05)\n",
    "countvec = CountVectorizer(ngram_range=(1,2),max_features=5000,max_df=.9, min_df=.05)\n"
   ]
  },
  {
   "cell_type": "code",
   "execution_count": 42,
   "metadata": {},
   "outputs": [],
   "source": [
    "# Fit transforming my vectorizers\n",
    "tmod = tifdif.fit_transform(X_train)\n",
    "cmod = countvec.fit_transform(X_train)\n",
    "\n",
    "# Transforming my test data\n",
    "ttest = tifdif.transform(X_test)\n",
    "ctest = countvec.transform(X_test)\n"
   ]
  },
  {
   "cell_type": "code",
   "execution_count": 43,
   "metadata": {},
   "outputs": [],
   "source": [
    "# Making Dataframes out of our features"
   ]
  },
  {
   "cell_type": "markdown",
   "metadata": {},
   "source": [
    "### Train Test Split"
   ]
  },
  {
   "cell_type": "markdown",
   "metadata": {},
   "source": [
    "## Modeling Section"
   ]
  },
  {
   "cell_type": "markdown",
   "metadata": {},
   "source": [
    "## I'm going to use a grid search to find the optimum parameters for my Random Forest"
   ]
  },
  {
   "cell_type": "code",
   "execution_count": 44,
   "metadata": {},
   "outputs": [],
   "source": [
    "from sklearn.ensemble import RandomForestClassifier\n",
    "from sklearn.model_selection import GridSearchCV"
   ]
  },
  {
   "cell_type": "code",
   "execution_count": 46,
   "metadata": {},
   "outputs": [
    {
     "name": "stderr",
     "output_type": "stream",
     "text": [
      "/Users/michaelhoppes/anaconda3/lib/python3.6/site-packages/sklearn/model_selection/_split.py:1943: FutureWarning: You should specify a value for 'cv' instead of relying on the default value. The default value will change from 3 to 5 in version 0.22.\n",
      "  warnings.warn(CV_WARNING, FutureWarning)\n"
     ]
    },
    {
     "name": "stdout",
     "output_type": "stream",
     "text": [
      "0.9002416292716603\n"
     ]
    },
    {
     "data": {
      "text/plain": [
       "{'max_depth': None, 'min_samples_split': 4, 'n_estimators': 50}"
      ]
     },
     "execution_count": 46,
     "metadata": {},
     "output_type": "execute_result"
    }
   ],
   "source": [
    "## Let's try Random Forest Classifier and Grid Search it\n",
    "\n",
    "rf = RandomForestClassifier()\n",
    "rf_params = {\n",
    "    'n_estimators': [30, 40,50,60], #[10,20,30, 40,]\n",
    "    'max_depth': [None, 1, 2, 3, 4, 5], \n",
    "    'min_samples_split': [4,5,6,7]  # [2,3,4,5]\n",
    "}\n",
    "gs = GridSearchCV(rf, param_grid=rf_params)\n",
    "gs.fit(tmod, y_train)\n",
    "print(gs.best_score_)\n",
    "gs.best_params_"
   ]
  },
  {
   "cell_type": "markdown",
   "metadata": {},
   "source": [
    "### Our accuracy of 90.3 % on our training data is pretty good! Let's see how it does on our test set"
   ]
  },
  {
   "cell_type": "code",
   "execution_count": 47,
   "metadata": {},
   "outputs": [],
   "source": [
    "# Let's import our model selection tools for our test set\n",
    "from sklearn.model_selection import cross_val_score, KFold"
   ]
  },
  {
   "cell_type": "code",
   "execution_count": 48,
   "metadata": {},
   "outputs": [],
   "source": [
    "KF = KFold(3,shuffle=True)"
   ]
  },
  {
   "cell_type": "code",
   "execution_count": 49,
   "metadata": {},
   "outputs": [
    {
     "name": "stderr",
     "output_type": "stream",
     "text": [
      "/Users/michaelhoppes/anaconda3/lib/python3.6/site-packages/sklearn/model_selection/_split.py:1943: FutureWarning: You should specify a value for 'cv' instead of relying on the default value. The default value will change from 3 to 5 in version 0.22.\n",
      "  warnings.warn(CV_WARNING, FutureWarning)\n",
      "/Users/michaelhoppes/anaconda3/lib/python3.6/site-packages/sklearn/model_selection/_split.py:1943: FutureWarning: You should specify a value for 'cv' instead of relying on the default value. The default value will change from 3 to 5 in version 0.22.\n",
      "  warnings.warn(CV_WARNING, FutureWarning)\n",
      "/Users/michaelhoppes/anaconda3/lib/python3.6/site-packages/sklearn/model_selection/_split.py:1943: FutureWarning: You should specify a value for 'cv' instead of relying on the default value. The default value will change from 3 to 5 in version 0.22.\n",
      "  warnings.warn(CV_WARNING, FutureWarning)\n"
     ]
    },
    {
     "data": {
      "text/plain": [
       "0.8737060041407867"
      ]
     },
     "execution_count": 49,
     "metadata": {},
     "output_type": "execute_result"
    }
   ],
   "source": [
    "cross_val_score(gs,ttest,y_test, cv = KF).mean()"
   ]
  },
  {
   "cell_type": "markdown",
   "metadata": {},
   "source": [
    "### Looks like we got 89.2% on our test data, which is pretty good. 9 out of 10 posts we can predict correctly, which is much much better than our baseline. This is only using tfidf though. Let's see if we can't do a little better if we use the count vectorizer."
   ]
  },
  {
   "cell_type": "code",
   "execution_count": 50,
   "metadata": {
    "scrolled": false
   },
   "outputs": [
    {
     "name": "stderr",
     "output_type": "stream",
     "text": [
      "/Users/michaelhoppes/anaconda3/lib/python3.6/site-packages/sklearn/model_selection/_split.py:1943: FutureWarning: You should specify a value for 'cv' instead of relying on the default value. The default value will change from 3 to 5 in version 0.22.\n",
      "  warnings.warn(CV_WARNING, FutureWarning)\n"
     ]
    },
    {
     "name": "stdout",
     "output_type": "stream",
     "text": [
      "0.8994649637556092\n"
     ]
    },
    {
     "name": "stderr",
     "output_type": "stream",
     "text": [
      "/Users/michaelhoppes/anaconda3/lib/python3.6/site-packages/sklearn/model_selection/_split.py:1943: FutureWarning: You should specify a value for 'cv' instead of relying on the default value. The default value will change from 3 to 5 in version 0.22.\n",
      "  warnings.warn(CV_WARNING, FutureWarning)\n",
      "/Users/michaelhoppes/anaconda3/lib/python3.6/site-packages/sklearn/model_selection/_split.py:1943: FutureWarning: You should specify a value for 'cv' instead of relying on the default value. The default value will change from 3 to 5 in version 0.22.\n",
      "  warnings.warn(CV_WARNING, FutureWarning)\n",
      "/Users/michaelhoppes/anaconda3/lib/python3.6/site-packages/sklearn/model_selection/_split.py:1943: FutureWarning: You should specify a value for 'cv' instead of relying on the default value. The default value will change from 3 to 5 in version 0.22.\n",
      "  warnings.warn(CV_WARNING, FutureWarning)\n"
     ]
    },
    {
     "data": {
      "text/plain": [
       "0.8743961352657005"
      ]
     },
     "execution_count": 50,
     "metadata": {},
     "output_type": "execute_result"
    }
   ],
   "source": [
    "rf2 = RandomForestClassifier()\n",
    "gs2 = GridSearchCV(rf2, param_grid=rf_params)\n",
    "gs2.fit(cmod, y_train)\n",
    "print(gs2.best_score_)\n",
    "gs2.best_params_\n",
    "cross_val_score(gs2,ctest,y_test, cv = KF).mean()"
   ]
  },
  {
   "cell_type": "markdown",
   "metadata": {},
   "source": [
    "## Looks like tfidf performs slightly better so we'll go with that one for the Logistic Regression"
   ]
  },
  {
   "cell_type": "code",
   "execution_count": 51,
   "metadata": {},
   "outputs": [],
   "source": [
    "# Going to try a standard Scaler\n",
    "from sklearn.linear_model import LogisticRegression"
   ]
  },
  {
   "cell_type": "code",
   "execution_count": 52,
   "metadata": {},
   "outputs": [
    {
     "name": "stderr",
     "output_type": "stream",
     "text": [
      "/Users/michaelhoppes/anaconda3/lib/python3.6/site-packages/sklearn/linear_model/logistic.py:432: FutureWarning: Default solver will be changed to 'lbfgs' in 0.22. Specify a solver to silence this warning.\n",
      "  FutureWarning)\n"
     ]
    },
    {
     "data": {
      "text/plain": [
       "LogisticRegression(C=1.0, class_weight=None, dual=False, fit_intercept=True,\n",
       "          intercept_scaling=1, max_iter=100, multi_class='warn',\n",
       "          n_jobs=None, penalty='l2', random_state=None, solver='warn',\n",
       "          tol=0.0001, verbose=0, warm_start=False)"
      ]
     },
     "execution_count": 52,
     "metadata": {},
     "output_type": "execute_result"
    }
   ],
   "source": [
    "lr= LogisticRegression()\n",
    "lr.fit(tmod,y_train)"
   ]
  },
  {
   "cell_type": "code",
   "execution_count": 53,
   "metadata": {},
   "outputs": [
    {
     "name": "stdout",
     "output_type": "stream",
     "text": [
      "0.9018812564722126\n"
     ]
    },
    {
     "name": "stderr",
     "output_type": "stream",
     "text": [
      "/Users/michaelhoppes/anaconda3/lib/python3.6/site-packages/sklearn/linear_model/logistic.py:432: FutureWarning: Default solver will be changed to 'lbfgs' in 0.22. Specify a solver to silence this warning.\n",
      "  FutureWarning)\n"
     ]
    },
    {
     "data": {
      "text/plain": [
       "0.8754313319530711"
      ]
     },
     "execution_count": 53,
     "metadata": {},
     "output_type": "execute_result"
    }
   ],
   "source": [
    "print(lr.score(tmod,y_train))\n",
    "cross_val_score(lr,ttest,y_test,cv=7).mean()"
   ]
  },
  {
   "cell_type": "markdown",
   "metadata": {},
   "source": [
    "## In this case, it looks like our Logistic Regression slightly outperforms the Random Forest, in the accuracy of our test set. It looks like our model is properly fit, as there is not a large difference between the train and test set in either case. "
   ]
  },
  {
   "cell_type": "markdown",
   "metadata": {},
   "source": [
    "## Model Evaluation"
   ]
  },
  {
   "cell_type": "code",
   "execution_count": 54,
   "metadata": {},
   "outputs": [],
   "source": [
    "from sklearn.metrics.classification import confusion_matrix, classification_report, accuracy_score \n",
    "from sklearn.metrics import roc_auc_score, roc_curve"
   ]
  },
  {
   "cell_type": "markdown",
   "metadata": {},
   "source": [
    "### Generate a report to calculate the precision and recall\n",
    "\n"
   ]
  },
  {
   "cell_type": "code",
   "execution_count": 55,
   "metadata": {},
   "outputs": [
    {
     "name": "stdout",
     "output_type": "stream",
     "text": [
      "              precision    recall  f1-score   support\n",
      "\n",
      "           0       0.86      0.89      0.88      1316\n",
      "           1       0.91      0.88      0.90      1582\n",
      "\n",
      "   micro avg       0.89      0.89      0.89      2898\n",
      "   macro avg       0.89      0.89      0.89      2898\n",
      "weighted avg       0.89      0.89      0.89      2898\n",
      "\n"
     ]
    }
   ],
   "source": [
    "preds = lr.predict(ttest)\n",
    "print(classification_report(y_test,preds))"
   ]
  },
  {
   "cell_type": "markdown",
   "metadata": {},
   "source": [
    "#### Generate a confusion matrix, accuracy score, and auc roc score"
   ]
  },
  {
   "cell_type": "code",
   "execution_count": 56,
   "metadata": {},
   "outputs": [],
   "source": [
    "cm = confusion_matrix(y_test,preds)"
   ]
  },
  {
   "cell_type": "code",
   "execution_count": 57,
   "metadata": {
    "scrolled": true
   },
   "outputs": [
    {
     "data": {
      "text/plain": [
       "[Text(0, 0.5, 'buddhism'), Text(0, 1.5, 'christianity')]"
      ]
     },
     "execution_count": 57,
     "metadata": {},
     "output_type": "execute_result"
    }
   ],
   "source": [
    "\n",
    "import seaborn as sns\n",
    "import matplotlib.pyplot as plt     \n",
    "\n",
    "ax= plt.subplot()\n",
    "sns.heatmap(cm, annot=True, ax = ax,fmt='g'); #annot=True to annotate cells\n",
    "\n",
    "# labels, title and ticks\n",
    "ax.set_xlabel('Predicted labels');ax.set_ylabel('True labels'); \n",
    "ax.set_title('Confusion Matrix'); \n",
    "ax.xaxis.set_ticklabels(['buddhism','christianity']); ax.yaxis.set_ticklabels(['buddhism', 'christianity'])\n",
    "\n",
    "## S/O https://stackoverflow.com/questions/19233771/sklearn-plot-confusion-matrix-with-labels"
   ]
  },
  {
   "cell_type": "code",
   "execution_count": 58,
   "metadata": {},
   "outputs": [],
   "source": [
    "sensitivity = 1350 / (1350+189)\n",
    "specificity = 1239/(1239+109)\n",
    "accuracy =(1239+1350)/ (1239+109+1350+189)\n",
    "misclassification = 1 - accuracy"
   ]
  },
  {
   "cell_type": "code",
   "execution_count": 59,
   "metadata": {},
   "outputs": [
    {
     "name": "stdout",
     "output_type": "stream",
     "text": [
      "accuracy is 0.8967786629719432\n",
      "misclassification is 0.1032213370280568\n",
      "sensitivity is 0.8771929824561403\n",
      "specificity is 0.9191394658753709\n"
     ]
    }
   ],
   "source": [
    "print(f'accuracy is {accuracy}')\n",
    "print(f'misclassification is {misclassification}')\n",
    "print(f'sensitivity is {sensitivity}')\n",
    "print(f'specificity is {specificity}')\n"
   ]
  },
  {
   "cell_type": "code",
   "execution_count": 60,
   "metadata": {},
   "outputs": [
    {
     "data": {
      "text/plain": [
       "0.8875086266390614"
      ]
     },
     "execution_count": 60,
     "metadata": {},
     "output_type": "execute_result"
    }
   ],
   "source": [
    "accuracy_score(y_test,preds)"
   ]
  },
  {
   "cell_type": "markdown",
   "metadata": {},
   "source": [
    "### AUC/ROC. "
   ]
  },
  {
   "cell_type": "code",
   "execution_count": 61,
   "metadata": {},
   "outputs": [
    {
     "data": {
      "text/plain": [
       "0.8880860478252683"
      ]
     },
     "execution_count": 61,
     "metadata": {},
     "output_type": "execute_result"
    }
   ],
   "source": [
    "# \n",
    "roc_auc_score(y_test,preds)"
   ]
  },
  {
   "cell_type": "code",
   "execution_count": 62,
   "metadata": {},
   "outputs": [],
   "source": [
    "from sklearn.metrics import auc"
   ]
  },
  {
   "cell_type": "code",
   "execution_count": 63,
   "metadata": {},
   "outputs": [],
   "source": [
    "from sklearn.metrics import auc\n",
    "\n",
    "def plot_roc_auc(probas, true, model, step=0.01):\n",
    "    \"\"\"\n",
    "    probas are the predicted probabilities\n",
    "    true are the true values\n",
    "    model needs to be a string for the name on the graph\n",
    "    step are the increments on a changing threshold\n",
    "    \"\"\"\n",
    "    \n",
    "    probas = probas[:, 1] # all the second values of the predicted probability\n",
    "    true   = true.values  # the values associated with the actual target\n",
    "    assert(len(probas) == len(true)) # ensure that the len of the predicted values are the same as actual\n",
    "    \n",
    "    TPRs = [] # empty list to store the True Positive Rates\n",
    "    FPRs = [] # empty list to store the False Positive Rates\n",
    "    \n",
    "    # loop through all the different thresholds by the size of the shape\n",
    "    for i in np.arange(0.0, 1.0, step):\n",
    "        preds_class = probas > i\n",
    "        TP = 0\n",
    "        FP = 0\n",
    "        TN = 0\n",
    "        FN = 0\n",
    "        for index in range(len(preds_class)):\n",
    "            \n",
    "            if preds_class[index] == 1 and true[index] == 1:\n",
    "                TP += 1\n",
    "            elif preds_class[index] == 1 and true[index] == 0:\n",
    "                FP += 1\n",
    "            elif preds_class[index] == 0 and true[index] == 0:\n",
    "                TN += 1\n",
    "            else:\n",
    "                FN += 1\n",
    "        \n",
    "        TPR = TP / (TP + FN) # calculate the True Positive Rate\n",
    "        FPR = FP / (FP + TN) # calculate the False Positive Rate\n",
    "        \n",
    "        TPRs.append(TPR)\n",
    "        FPRs.append(FPR)\n",
    "        \n",
    "    AUC = auc(FPRs, TPRs)\n",
    "    plt.rcParams['font.size'] = 14\n",
    "    plt.plot(FPRs, TPRs, color=\"orange\")\n",
    "    plt.plot([0,1],[0,1], color='navy', lw=2, linestyle='--')\n",
    "    plt.xlim([0.0, 1.0])\n",
    "    plt.ylim([0.0, 1.0])\n",
    "    plt.title('{} ROC'.format(model))\n",
    "    plt.xlabel(\"False Positive Rate (1 - Specificity)\")\n",
    "    plt.ylabel(\"True Positive Rate (Sensitivity)\")\n",
    "    plt.text(0.5, .2, \"AUC SCORE:{}\".format(round(AUC, 5)))\n",
    "    plt.show();"
   ]
  },
  {
   "cell_type": "code",
   "execution_count": 64,
   "metadata": {},
   "outputs": [
    {
     "data": {
      "image/png": "[encoded data removed]",
      "text/plain": [
       "<Figure size 432x288 with 1 Axes>"
      ]
     },
     "metadata": {
      "needs_background": "light"
     },
     "output_type": "display_data"
    },
    {
     "data": {
      "image/png": "[encoded data removed]",
      "text/plain": [
       "<Figure size 432x288 with 1 Axes>"
      ]
     },
     "metadata": {
      "needs_background": "light"
     },
     "output_type": "display_data"
    }
   ],
   "source": [
    "plot_roc_auc(lr.predict_proba(ttest),\n",
    "            model = \"Logistic Regression\",\n",
    "            true = y_test,\n",
    "            step = 0.001)\n",
    "plot_roc_auc(gs.predict_proba(ttest),\n",
    "            model = \"Random Forest\",\n",
    "            true = y_test,\n",
    "            step = 0.001)"
   ]
  }
 ],
 "metadata": {
  "kernelspec": {
   "display_name": "Python 3",
   "language": "python",
   "name": "python3"
  },
  "language_info": {
   "codemirror_mode": {
    "name": "ipython",
    "version": 3
   },
   "file_extension": ".py",
   "mimetype": "text/x-python",
   "name": "python",
   "nbconvert_exporter": "python",
   "pygments_lexer": "ipython3",
   "version": "3.6.8"
  }
 },
 "nbformat": 4,
 "nbformat_minor": 2
}
